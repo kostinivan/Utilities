{
 "cells": [
  {
   "cell_type": "code",
   "execution_count": 3,
   "metadata": {},
   "outputs": [],
   "source": [
    "# https://www.shellhacks.com/linux-check-change-file-encoding/\n",
    "import os\n",
    "import glob\n",
    "from fnmatch import fnmatch\n",
    "import numpy as np\n",
    "import subprocess"
   ]
  },
  {
   "cell_type": "code",
   "execution_count": 4,
   "metadata": {},
   "outputs": [],
   "source": [
    "def convert_encoding(from_encode, to_encode, target_dir, target_name):\n",
    "    p0 = subprocess.Popen([\"iconv\", \"-f\", from_encode, \"-t\", to_encode,\n",
    "                               \"-o\", os.path.join(target_dir, r'temp.unixencode'), \n",
    "                               os.path.join(target_dir, target_name)], stdout=subprocess.PIPE)\n",
    "    output = p0.communicate()[0].decode('utf8') # I don't need it especially result is clear. \n",
    "                                                    # Just to be sure that all is done\n",
    "    # copy test to target\n",
    "    subprocess.call([\"cp\", os.path.join(target_dir, r'temp.unixencode'), os.path.join(target_dir, target_name)])\n",
    "    subprocess.call([\"rm\", os.path.join(target_dir, r'temp.unixencode')])"
   ]
  },
  {
   "cell_type": "code",
   "execution_count": 5,
   "metadata": {
    "scrolled": true
   },
   "outputs": [
    {
     "name": "stdout",
     "output_type": "stream",
     "text": [
      "simulink_to_script1_complex.m : MS-Windows code page 1251\n",
      "\n",
      "K0_C.m : MS-Windows code page 1251\n",
      "\n",
      "FL0_C.m : MS-Windows code page 1251\n",
      "\n",
      "SL0.m : MS-Windows code page 1251\n",
      "\n",
      "Allocation_CGV.m : MS-Windows code page 1251\n",
      "\n",
      "simulink_to_script1mono.m : MS-Windows code page 1251\n",
      "\n",
      "Reduce_OB_Dim_C.m : MS-Windows code page 1251\n",
      "\n",
      "K0_R.m : MS-Windows code page 1251\n",
      "\n"
     ]
    }
   ],
   "source": [
    "# test encoder\n",
    "# as a default, windows encoding - cp-1251, ubuntu encoding - utf-8.\n",
    "# NOTE some files in ASCII can't be convert if doesn't conatins russian leters. No rusiian - ASCII is subset of utf-8\n",
    "# input args:\n",
    "# path = r'/home/cognitive/Cognitive/actual_repos/ar18/RZD_radar/Radar24_RZD_Conv/MATLAB_scripts/sep_modules/'\n",
    "# path = r'/home/cognitive/Polytech/Image_radar_core (04.10.2018)/'\n",
    "path = r'/home/cognitive/Cognitive/Radar/sep_modules_basis/exces_basis/'\n",
    "file_template = r'*.m'\n",
    "to_encoding = r'UTF-8' # target encoding (for linux host)\n",
    "debug_mode = False # to be true, try: https://towardsdatascience.com/interactive-controls-for-jupyter-notebooks-f5c94829aee6\n",
    "file_names = os.listdir(path)\n",
    "targets = []\n",
    "for f_name in file_names:\n",
    "    if fnmatch(f_name, file_template):\n",
    "        targets.append(f_name)\n",
    "for target in targets:\n",
    "    # Detect current encoding. for windows its usially smth like extended ascii. so we need utility enca\n",
    "    p0 = subprocess.Popen([\"enca\", \"-L\", \"russian\", os.path.join(path, target)], stdout=subprocess.PIPE)\n",
    "    output = p0.communicate()[0].decode('utf8')\n",
    "    if fnmatch(output, r'*UTF-8*'): # if encoding is utf-8 already\n",
    "        continue\n",
    "    elif fnmatch(output, r'7bit ASCII*'): # US_ASCII case\n",
    "        from_encoding = r'US-ASCII' # according iconv --list\n",
    "        # convert and put res to target\n",
    "        convert_encoding(from_encoding, to_encoding, path, target)\n",
    "    elif fnmatch(output, r'*1251*'): # WINDOWS-1251 or cp-1251 case (supposed the same)\n",
    "        from_encoding = r'WINDOWS-1251'\n",
    "        convert_encoding(from_encoding, to_encoding, path, target)\n",
    "        \n",
    "    print(target + ' : ' + output)"
   ]
  },
  {
   "cell_type": "code",
   "execution_count": 6,
   "metadata": {},
   "outputs": [
    {
     "name": "stdout",
     "output_type": "stream",
     "text": [
      "True\n"
     ]
    }
   ],
   "source": [
    "print(fnmatch(r'7bit ASCII characters', r'7bit ASCII*'))"
   ]
  },
  {
   "cell_type": "code",
   "execution_count": null,
   "metadata": {},
   "outputs": [],
   "source": []
  }
 ],
 "metadata": {
  "kernelspec": {
   "display_name": "Python 3",
   "language": "python",
   "name": "python3"
  },
  "language_info": {
   "codemirror_mode": {
    "name": "ipython",
    "version": 3
   },
   "file_extension": ".py",
   "mimetype": "text/x-python",
   "name": "python",
   "nbconvert_exporter": "python",
   "pygments_lexer": "ipython3",
   "version": "3.6.9"
  }
 },
 "nbformat": 4,
 "nbformat_minor": 2
}
