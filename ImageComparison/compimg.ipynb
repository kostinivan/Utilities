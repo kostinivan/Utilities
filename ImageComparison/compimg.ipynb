{
 "cells": [
  {
   "cell_type": "code",
   "execution_count": 22,
   "metadata": {},
   "outputs": [],
   "source": [
    "import cv2\n",
    "import os\n",
    "import numpy as np\n",
    "import glob\n",
    "import matplotlib.pyplot as plt"
   ]
  },
  {
   "cell_type": "code",
   "execution_count": 23,
   "metadata": {},
   "outputs": [],
   "source": [
    "path1 = '/testdata/reinhard/cpp_img/*.png'\n",
    "path2 = '/testdata/reinhard/py_img/*.png'\n",
    "list_files1 = glob.glob(path1)\n",
    "list_files2 = glob.glob(path2)"
   ]
  },
  {
   "cell_type": "code",
   "execution_count": 69,
   "metadata": {},
   "outputs": [
    {
     "name": "stdout",
     "output_type": "stream",
     "text": [
      "/testdata/reinhard/cpp_img/reinhard.png\n",
      "/testdata/reinhard/py_img/reinhard.png\n",
      "diff_max:  [0.]\n",
      "diff_mean:  0.0\n",
      "0.0\n",
      "max:  0.0 %err\n",
      "mean:  0.0 %err\n",
      "count 0\n",
      "count 0.0\n",
      "(1860, 2880, 3)\n",
      "0.0002881695539625647\n",
      "/testdata/reinhard/cpp_img/outimg.png\n",
      "/testdata/reinhard/py_img/outimg.png\n",
      "diff_max:  [13484.]\n",
      "diff_mean:  0.0\n",
      "1.0\n",
      "max:  0.39215686274509803 %err\n",
      "mean:  0.0016688092003029808 %err\n",
      "count 68387\n",
      "count 68387.0\n",
      "(1860, 2880, 3)\n",
      "0.0002881695539625647\n",
      "/testdata/reinhard/cpp_img/demosaic.png\n",
      "/testdata/reinhard/py_img/demosaic.png\n",
      "diff_max:  [0.]\n",
      "diff_mean:  0.0\n",
      "0.0\n",
      "max:  0.0 %err\n",
      "mean:  0.0 %err\n",
      "count 0\n",
      "count 0.0\n",
      "(1860, 2880, 3)\n",
      "0.0002881695539625647\n",
      "/testdata/reinhard/cpp_img/saturation.png\n",
      "/testdata/reinhard/py_img/saturation.png\n",
      "diff_max:  [1.]\n",
      "diff_mean:  0.0\n",
      "1.0\n",
      "max:  0.39215686274509803 %err\n",
      "mean:  1.952194657233662e-07 %err\n",
      "count 8\n",
      "count 8.0\n",
      "(1860, 2880, 3)\n",
      "0.0002881695539625647\n"
     ]
    }
   ],
   "source": [
    "for img_id in range(0, len(list_files1)):\n",
    "    img1 = cv2.imread(list_files1[img_id])\n",
    "    img2 = cv2.imread(list_files2[img_id])\n",
    "#     cv2.imshow('image', img1)\n",
    "    hist1 = cv2.calcHist([img1],[0],None,[256],[0,256])\n",
    "    hist2 = cv2.calcHist([img2],[0],None,[256],[0,256])\n",
    "    print(list_files1[img_id])\n",
    "    print(list_files2[img_id])\n",
    "    print('diff_max: ', max(hist1-hist2))\n",
    "    print('diff_mean: ', np.mean(np.array(hist1)-np.array(hist2)))\n",
    "    diff = np.abs(np.double(img1) - np.double(img2))\n",
    "#     diff = diff*diff\n",
    "#     diff = np.sum(diff)\n",
    "    print(np.max(diff))\n",
    "    print('max: ', np.max(diff)/np.max(np.double(img2))*100, '%err')\n",
    "    print('mean: ', np.mean(diff)/np.max(np.double(img2))*100, '%err')\n",
    "    print('count', np.sum(diff == 1))\n",
    "    print('count', np.sum(diff))\n",
    "    print(diff.shape)\n",
    "    print(4631/(1860* 2880* 3))"
   ]
  },
  {
   "cell_type": "code",
   "execution_count": null,
   "metadata": {},
   "outputs": [],
   "source": []
  }
 ],
 "metadata": {
  "kernelspec": {
   "display_name": "Python 3",
   "language": "python",
   "name": "python3"
  },
  "language_info": {
   "codemirror_mode": {
    "name": "ipython",
    "version": 3
   },
   "file_extension": ".py",
   "mimetype": "text/x-python",
   "name": "python",
   "nbconvert_exporter": "python",
   "pygments_lexer": "ipython3",
   "version": "3.6.9"
  }
 },
 "nbformat": 4,
 "nbformat_minor": 5
}
